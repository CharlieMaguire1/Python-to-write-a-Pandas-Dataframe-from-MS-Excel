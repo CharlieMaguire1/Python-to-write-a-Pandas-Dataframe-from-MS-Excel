{
 "cells": [
  {
   "cell_type": "code",
   "execution_count": 9,
   "id": "ecc93c09",
   "metadata": {},
   "outputs": [
    {
     "data": {
      "text/html": [
       "<div>\n",
       "<style scoped>\n",
       "    .dataframe tbody tr th:only-of-type {\n",
       "        vertical-align: middle;\n",
       "    }\n",
       "\n",
       "    .dataframe tbody tr th {\n",
       "        vertical-align: top;\n",
       "    }\n",
       "\n",
       "    .dataframe thead th {\n",
       "        text-align: right;\n",
       "    }\n",
       "</style>\n",
       "<table border=\"1\" class=\"dataframe\">\n",
       "  <thead>\n",
       "    <tr style=\"text-align: right;\">\n",
       "      <th></th>\n",
       "      <th>DATE: 16-Aug-23 To 16-Aug-23</th>\n",
       "      <th>Unnamed: 0</th>\n",
       "      <th>All Customer's Transaction</th>\n",
       "    </tr>\n",
       "  </thead>\n",
       "  <tbody>\n",
       "    <tr>\n",
       "      <th>0</th>\n",
       "      <td>Customer Name Total Items</td>\n",
       "      <td>NaN</td>\n",
       "      <td>Total Amount</td>\n",
       "    </tr>\n",
       "    <tr>\n",
       "      <th>1</th>\n",
       "      <td>Christiana Kwaako 1</td>\n",
       "      <td>NaN</td>\n",
       "      <td>60.00</td>\n",
       "    </tr>\n",
       "    <tr>\n",
       "      <th>2</th>\n",
       "      <td>Edward &amp; Dora Awuku 7</td>\n",
       "      <td>NaN</td>\n",
       "      <td>1,320.00</td>\n",
       "    </tr>\n",
       "    <tr>\n",
       "      <th>3</th>\n",
       "      <td>Elizabeth Kosipah 3</td>\n",
       "      <td>NaN</td>\n",
       "      <td>620.00</td>\n",
       "    </tr>\n",
       "    <tr>\n",
       "      <th>4</th>\n",
       "      <td>Florence Huisinga 1</td>\n",
       "      <td>NaN</td>\n",
       "      <td>60.00</td>\n",
       "    </tr>\n",
       "    <tr>\n",
       "      <th>5</th>\n",
       "      <td>Georgina Sika 3</td>\n",
       "      <td>NaN</td>\n",
       "      <td>640.00</td>\n",
       "    </tr>\n",
       "    <tr>\n",
       "      <th>6</th>\n",
       "      <td>Joesph &amp; Mavis 4</td>\n",
       "      <td>NaN</td>\n",
       "      <td>980.00</td>\n",
       "    </tr>\n",
       "    <tr>\n",
       "      <th>7</th>\n",
       "      <td>Lucy &amp; Hilliard 3</td>\n",
       "      <td>NaN</td>\n",
       "      <td>840.00</td>\n",
       "    </tr>\n",
       "    <tr>\n",
       "      <th>8</th>\n",
       "      <td>Mary Adu Kudzordzi 4</td>\n",
       "      <td>NaN</td>\n",
       "      <td>960.00</td>\n",
       "    </tr>\n",
       "    <tr>\n",
       "      <th>9</th>\n",
       "      <td>Patience Nuworku 1</td>\n",
       "      <td>NaN</td>\n",
       "      <td>60.00</td>\n",
       "    </tr>\n",
       "    <tr>\n",
       "      <th>10</th>\n",
       "      <td>GRAND TOTAL GH¢</td>\n",
       "      <td>NaN</td>\n",
       "      <td>5,540.00</td>\n",
       "    </tr>\n",
       "  </tbody>\n",
       "</table>\n",
       "</div>"
      ],
      "text/plain": [
       "   DATE: 16-Aug-23 To 16-Aug-23  Unnamed: 0 All Customer's Transaction\n",
       "0     Customer Name Total Items         NaN               Total Amount\n",
       "1           Christiana Kwaako 1         NaN                      60.00\n",
       "2         Edward & Dora Awuku 7         NaN                   1,320.00\n",
       "3           Elizabeth Kosipah 3         NaN                     620.00\n",
       "4           Florence Huisinga 1         NaN                      60.00\n",
       "5               Georgina Sika 3         NaN                     640.00\n",
       "6              Joesph & Mavis 4         NaN                     980.00\n",
       "7             Lucy & Hilliard 3         NaN                     840.00\n",
       "8          Mary Adu Kudzordzi 4         NaN                     960.00\n",
       "9            Patience Nuworku 1         NaN                      60.00\n",
       "10              GRAND TOTAL GH¢         NaN                   5,540.00"
      ]
     },
     "metadata": {},
     "output_type": "display_data"
    },
    {
     "name": "stdout",
     "output_type": "stream",
     "text": [
      "Data has been sent to AugData.xlsx\n"
     ]
    }
   ],
   "source": [
    "#Install Java first if not pre-installed\n",
    "#Import module to convert pdf to another format\n",
    "#Therefore import the read_pdf from tablula \n",
    "import tabula\n",
    "from tabula import read_pdf\n",
    "import pandas as pd\n",
    "\n",
    "\n",
    "#Read the pdf file with the read_pdf() method \n",
    "df = tabula.read_pdf(r\"C:\\Users\\CJM\\Data Analysis with Python and MS Excel\\16.8.2023.pdf\", pages = 1)[0]\n",
    "\n",
    "#Return dataframe to excel spreadsheet\n",
    "df.to_excel('AugData.xlsx')\n",
    "display(df)\n",
    "\n",
    "#Give a message when completed\n",
    "print(\"Data has been sent to AugData.xlsx\")\n",
    "     \n",
    "     "
   ]
  },
  {
   "cell_type": "code",
   "execution_count": 10,
   "id": "1241fef2",
   "metadata": {},
   "outputs": [],
   "source": [
    "from tabulate import tabulate"
   ]
  },
  {
   "cell_type": "code",
   "execution_count": 11,
   "id": "1517a11a",
   "metadata": {},
   "outputs": [
    {
     "name": "stdout",
     "output_type": "stream",
     "text": [
      "+----+--------------------------------+--------------+------------------------------+\n",
      "|    | DATE: 16-Aug-23 To 16-Aug-23   |   Unnamed: 0 | All Customer's Transaction   |\n",
      "|----+--------------------------------+--------------+------------------------------|\n",
      "|  0 | Customer Name Total Items      |          nan | Total Amount                 |\n",
      "|  1 | Christiana Kwaako 1            |          nan | 60.00                        |\n",
      "|  2 | Edward & Dora Awuku 7          |          nan | 1,320.00                     |\n",
      "|  3 | Elizabeth Kosipah 3            |          nan | 620.00                       |\n",
      "|  4 | Florence Huisinga 1            |          nan | 60.00                        |\n",
      "|  5 | Georgina Sika 3                |          nan | 640.00                       |\n",
      "|  6 | Joesph & Mavis 4               |          nan | 980.00                       |\n",
      "|  7 | Lucy & Hilliard 3              |          nan | 840.00                       |\n",
      "|  8 | Mary Adu Kudzordzi 4           |          nan | 960.00                       |\n",
      "|  9 | Patience Nuworku 1             |          nan | 60.00                        |\n",
      "| 10 | GRAND TOTAL GH¢                |          nan | 5,540.00                     |\n",
      "+----+--------------------------------+--------------+------------------------------+\n"
     ]
    }
   ],
   "source": [
    "#Displaying the DataFrame in a SQL style format\n",
    "print(tabulate(df, headers = 'keys', tablefmt = 'psql'))\n"
   ]
  },
  {
   "cell_type": "code",
   "execution_count": 129,
   "id": "573d0126",
   "metadata": {
    "scrolled": true
   },
   "outputs": [
    {
     "name": "stdout",
     "output_type": "stream",
     "text": [
      "+----+---------------------------+--------------+\n",
      "|    | Name                      | Amount       |\n",
      "|----+---------------------------+--------------|\n",
      "|  0 | Customer Name Total Items | Total Amount |\n",
      "|  1 | Christiana Kwaako 1       | 60.00        |\n",
      "|  2 | Edward & Dora Awuku 7     | 1,320.00     |\n",
      "|  3 | Elizabeth Kosipah 3       | 620.00       |\n",
      "|  4 | Florence Huisinga 1       | 60.00        |\n",
      "|  5 | Georgina Sika 3           | 640.00       |\n",
      "|  6 | Joesph & Mavis 4          | 980.00       |\n",
      "|  7 | Lucy & Hilliard 3         | 840.00       |\n",
      "|  8 | Mary Adu Kudzordzi 4      | 960.00       |\n",
      "|  9 | Patience Nuworku 1        | 60.00        |\n",
      "| 10 | GRAND TOTAL GH¢           | 5,540.00     |\n",
      "+----+---------------------------+--------------+\n",
      "+----+-----------------------+----------+\n",
      "|    | Name                  | Amount   |\n",
      "|----+-----------------------+----------|\n",
      "|  1 | Christiana Kwaako 1   | 60.00    |\n",
      "|  2 | Edward & Dora Awuku 7 | 1,320.00 |\n",
      "|  3 | Elizabeth Kosipah 3   | 620.00   |\n",
      "|  4 | Florence Huisinga 1   | 60.00    |\n",
      "|  5 | Georgina Sika 3       | 640.00   |\n",
      "|  6 | Joesph & Mavis 4      | 980.00   |\n",
      "|  7 | Lucy & Hilliard 3     | 840.00   |\n",
      "|  8 | Mary Adu Kudzordzi 4  | 960.00   |\n",
      "|  9 | Patience Nuworku 1    | 60.00    |\n",
      "| 10 | GRAND TOTAL GH¢       | 5,540.00 |\n",
      "+----+-----------------------+----------+\n"
     ]
    }
   ],
   "source": [
    "# Use DataFrame.iloc[] to drop first row\n",
    "df.columns = ['Name', 'Amount']\n",
    "df1 = df.iloc[1:]\n",
    "\n",
    "#Printing the 1st table with the removed column\n",
    "#Printing a 2nd table with the first row removed\n",
    "print(tabulate(df, headers = 'keys', tablefmt = 'psql'))\n",
    "print(tabulate(df1, headers = 'keys', tablefmt = 'psql'))\n"
   ]
  },
  {
   "cell_type": "code",
   "execution_count": 76,
   "id": "1da8dfd9",
   "metadata": {},
   "outputs": [
    {
     "data": {
      "text/html": [
       "<div>\n",
       "<style scoped>\n",
       "    .dataframe tbody tr th:only-of-type {\n",
       "        vertical-align: middle;\n",
       "    }\n",
       "\n",
       "    .dataframe tbody tr th {\n",
       "        vertical-align: top;\n",
       "    }\n",
       "\n",
       "    .dataframe thead th {\n",
       "        text-align: right;\n",
       "    }\n",
       "</style>\n",
       "<table border=\"1\" class=\"dataframe\">\n",
       "  <thead>\n",
       "    <tr style=\"text-align: right;\">\n",
       "      <th></th>\n",
       "      <th>Name</th>\n",
       "      <th>Amount</th>\n",
       "    </tr>\n",
       "  </thead>\n",
       "  <tbody>\n",
       "    <tr>\n",
       "      <th>count</th>\n",
       "      <td>10</td>\n",
       "      <td>10</td>\n",
       "    </tr>\n",
       "    <tr>\n",
       "      <th>unique</th>\n",
       "      <td>10</td>\n",
       "      <td>8</td>\n",
       "    </tr>\n",
       "    <tr>\n",
       "      <th>top</th>\n",
       "      <td>Christiana Kwaako 1</td>\n",
       "      <td>60.00</td>\n",
       "    </tr>\n",
       "    <tr>\n",
       "      <th>freq</th>\n",
       "      <td>1</td>\n",
       "      <td>3</td>\n",
       "    </tr>\n",
       "  </tbody>\n",
       "</table>\n",
       "</div>"
      ],
      "text/plain": [
       "                       Name Amount\n",
       "count                    10     10\n",
       "unique                   10      8\n",
       "top     Christiana Kwaako 1  60.00\n",
       "freq                      1      3"
      ]
     },
     "execution_count": 76,
     "metadata": {},
     "output_type": "execute_result"
    }
   ],
   "source": [
    "#1st coding convention for a statistical description.\n",
    "df1.describe(include=[\"object\", \"int\"])\n"
   ]
  },
  {
   "cell_type": "code",
   "execution_count": 85,
   "id": "db6df584",
   "metadata": {},
   "outputs": [
    {
     "data": {
      "text/html": [
       "<div>\n",
       "<style scoped>\n",
       "    .dataframe tbody tr th:only-of-type {\n",
       "        vertical-align: middle;\n",
       "    }\n",
       "\n",
       "    .dataframe tbody tr th {\n",
       "        vertical-align: top;\n",
       "    }\n",
       "\n",
       "    .dataframe thead th {\n",
       "        text-align: right;\n",
       "    }\n",
       "</style>\n",
       "<table border=\"1\" class=\"dataframe\">\n",
       "  <thead>\n",
       "    <tr style=\"text-align: right;\">\n",
       "      <th></th>\n",
       "      <th>Name</th>\n",
       "      <th>Amount</th>\n",
       "    </tr>\n",
       "  </thead>\n",
       "  <tbody>\n",
       "    <tr>\n",
       "      <th>count</th>\n",
       "      <td>10</td>\n",
       "      <td>10</td>\n",
       "    </tr>\n",
       "    <tr>\n",
       "      <th>unique</th>\n",
       "      <td>10</td>\n",
       "      <td>8</td>\n",
       "    </tr>\n",
       "    <tr>\n",
       "      <th>top</th>\n",
       "      <td>Christiana Kwaako 1</td>\n",
       "      <td>60.00</td>\n",
       "    </tr>\n",
       "    <tr>\n",
       "      <th>freq</th>\n",
       "      <td>1</td>\n",
       "      <td>3</td>\n",
       "    </tr>\n",
       "  </tbody>\n",
       "</table>\n",
       "</div>"
      ],
      "text/plain": [
       "                       Name Amount\n",
       "count                    10     10\n",
       "unique                   10      8\n",
       "top     Christiana Kwaako 1  60.00\n",
       "freq                      1      3"
      ]
     },
     "execution_count": 85,
     "metadata": {},
     "output_type": "execute_result"
    }
   ],
   "source": [
    "#2nd coding convention for a statistical description\n",
    "df1[[\"Name\", \"Amount\"]].describe()\n"
   ]
  },
  {
   "cell_type": "code",
   "execution_count": null,
   "id": "99e4e192",
   "metadata": {},
   "outputs": [],
   "source": []
  }
 ],
 "metadata": {
  "kernelspec": {
   "display_name": "Python 3 (ipykernel)",
   "language": "python",
   "name": "python3"
  },
  "language_info": {
   "codemirror_mode": {
    "name": "ipython",
    "version": 3
   },
   "file_extension": ".py",
   "mimetype": "text/x-python",
   "name": "python",
   "nbconvert_exporter": "python",
   "pygments_lexer": "ipython3",
   "version": "3.11.4"
  }
 },
 "nbformat": 4,
 "nbformat_minor": 5
}
